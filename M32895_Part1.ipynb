{
 "cells": [
  {
   "cell_type": "markdown",
   "id": "efe74ef6",
   "metadata": {},
   "source": [
    "# M32895 Big Data Applications - Portfolio Part I\n",
    "\n",
    "This notebook contains solutions for Part I of the assessment portfolio for the **Big Data Applications** unit.\n",
    "\n",
    "**Instructions:**  \n",
    "- Complete each exercise in the corresponding cell.  \n",
    "- Ensure that all code is well-commented and follows best practices.  \n",
    "- Submit this notebook via **Moodle** by **March 19, 12:00 PM**.  \n",
    "\n",
    "---\n"
   ]
  },
  {
   "cell_type": "markdown",
   "id": "517487d4",
   "metadata": {},
   "source": [
    "## Exercise 1: Prime Number Checker"
   ]
  },
  {
   "cell_type": "code",
   "execution_count": null,
   "id": "e8f4bee0",
   "metadata": {},
   "outputs": [],
   "source": [
    "def is_prime(n):\n",
    "    \"\"\"Check if a number is prime.\"\"\"\n",
    "    if n < 2:\n",
    "        return False  # Numbers less than 2 are not prime.\n",
    "    \n",
    "    # Check divisibility from 2 to the square root of n\n",
    "    for i in range(2, int(n**0.5) + 1):\n",
    "        if n % i == 0:  # If n is divisible by i, it's not prime.\n",
    "            return False\n",
    "    return True  # If no divisors were found, n is prime.\n",
    "\n",
    "def main():\n",
    "    \"\"\"Main function to execute the prime check.\"\"\"\n",
    "    try:\n",
    "        # Ask user for input\n",
    "        num = int(input(\"Enter a number: \"))  \n",
    "        \n",
    "        # Check if the number is prime and print the result\n",
    "        if is_prime(num):\n",
    "            print(\"This is a prime number.\")\n",
    "        else:\n",
    "            print(\"This is not a prime number.\")\n",
    "    except ValueError:\n",
    "        # Handle the case where the input is not a valid integer\n",
    "        print(\"Please enter a valid integer.\")\n",
    "\n",
    "# Entry point of the program\n",
    "if __name__ == \"__main__\":\n",
    "    main()"
   ]
  },
  {
   "cell_type": "markdown",
   "id": "f01ea15e",
   "metadata": {},
   "source": [
    "# Prime Number Checker\n",
    "\n",
    "## Overview\n",
    "\n",
    "The **Prime Number Checker** is a Python program that determines whether a user-provided number is a prime number. A prime number is defined as a natural number greater than 1 that has no positive divisors other than 1 and itself. This program prompts the user to enter a number, checks its primality, and provides feedback on the result.\n",
    "\n",
    "## Features\n",
    "\n",
    "- Prompts the user to enter a number.\n",
    "- Checks if the number is prime using an optimized algorithm.\n",
    "- Provides immediate feedback on whether the number is prime or not.\n",
    "- Handles invalid input gracefully.\n",
    "\n",
    "## How It Works\n",
    "\n",
    "1. **Prime Checking Function**:\n",
    "   - The `is_prime(n)` function checks if the number `n` is prime.\n",
    "   - It first checks if `n` is less than 2, returning `False` for such cases.\n",
    "   - It specifically handles the case for `2`, which is the only even prime number.\n",
    "   - For other even numbers, it returns `False` immediately.\n",
    "   - It then checks for factors from `3` to the square root of `n`, skipping even numbers to optimize the process.\n",
    "\n",
    "2. **User  Input Handling**:\n",
    "   - The `get_user_input()` function prompts the user for input and handles any exceptions related to invalid input.\n",
    "   - It ensures that the program only proceeds with valid integer input.\n",
    "\n",
    "3. **Main Function**:\n",
    "   - The `main()` function orchestrates the program flow by calling the input function and the prime checking function.\n",
    "   - It prints the result based on whether the number is prime.\n",
    "\n",
    "## Usage\n",
    "\n",
    "1. **Run the Program**: Execute the script in a Python environment.\n",
    "2. **Input a Number**: When prompted, enter a number to check if it is prime.\n",
    "3. **Output**: The program will display whether the number is prime or not.\n",
    "\n",
    "## Example Interaction\n",
    "\n",
    "- Input: `7` → Output: \"This is a prime number.\"\n",
    "- Input: `10` → Output: \"This is not a prime number.\"\n",
    "- Input: `abc` → Output: \"Please enter a valid integer.\"\n"
   ]
  },
  {
   "cell_type": "markdown",
   "id": "dd96bd90",
   "metadata": {},
   "source": [
    "## Exercise 2: Fibonacci Sequence Generator"
   ]
  },
  {
   "cell_type": "code",
   "execution_count": 1,
   "id": "115b8b0b",
   "metadata": {},
   "outputs": [
    {
     "name": "stdout",
     "output_type": "stream",
     "text": [
      "Fibonacci Sequence: [0, 1, 1, 2]\n",
      "Invalid input. Please enter a number.\n",
      "Invalid input. Please enter a number.\n",
      "Invalid input. Please enter a number.\n",
      "Invalid input. Please enter a number.\n",
      "Invalid input. Please enter a number.\n",
      "Goodbye!\n"
     ]
    }
   ],
   "source": [
    "def fibonacci(n):\n",
    "    \"\"\"Generate Fibonacci sequence up to n terms.\"\"\"\n",
    "    if n <= 0:\n",
    "        return []  # Return an empty list for non-positive input\n",
    "    elif n == 1:\n",
    "        return [0]  # Return the first Fibonacci number\n",
    "    elif n == 2:\n",
    "        return [0, 1]  # Return the first two Fibonacci numbers\n",
    "\n",
    "    fib = [0, 1]  # Start with the first two Fibonacci numbers\n",
    "    for _ in range(2, n):  # Start from the third term\n",
    "        fib.append(fib[-1] + fib[-2])  # Add the last two numbers to get the next one\n",
    "    return fib  # Return the full Fibonacci sequence up to n terms\n",
    "\n",
    "def main():\n",
    "    \"\"\"Main function to execute the Fibonacci sequence generation.\"\"\"\n",
    "    while True:\n",
    "        user_input = input(\"Enter number of Fibonacci terms (or type 'exit' to quit): \")\n",
    "        if user_input.lower() == 'exit':\n",
    "            print(\"Goodbye!\")\n",
    "            break\n",
    "        \n",
    "        # Try to convert input to an integer\n",
    "        try:\n",
    "            num_terms = int(user_input)\n",
    "            # Print the Fibonacci sequence\n",
    "            print(\"Fibonacci Sequence:\", fibonacci(num_terms))\n",
    "        except ValueError:\n",
    "            print(\"Invalid input. Please enter a number.\")\n",
    "\n",
    "# Start the program\n",
    "if __name__ == \"__main__\":\n",
    "    main()"
   ]
  },
  {
   "cell_type": "markdown",
   "id": "2fc30416",
   "metadata": {},
   "source": [
    "# Fibonacci Sequence Generator\n",
    "\n",
    "## Overview\n",
    "\n",
    "The **Fibonacci Sequence Generator** is a Python program that generates the Fibonacci sequence up to a specified number of terms. \n",
    "\n",
    "## Features\n",
    "\n",
    "- Prompts the user for the number of terms.\n",
    "- Displays the Fibonacci sequence.\n",
    "- Allows the user to exit by typing \"exit\".\n",
    "\n",
    "## Usage\n",
    "\n",
    "1. Run the program.\n",
    "2. Enter the number of Fibonacci terms.\n",
    "3. Type \"exit\" to quit.\n",
    "\n",
    "## Example\n",
    "\n",
    "- Input: `5` → Output: `Fibonacci Sequence: [0, 1, 1, 2, 3]`"
   ]
  },
  {
   "cell_type": "markdown",
   "id": "acc516be",
   "metadata": {},
   "source": [
    "## Exercise 3: Pattern Printing (Decreasing Triangle)"
   ]
  },
  {
   "cell_type": "code",
   "execution_count": null,
   "id": "2d0325bf",
   "metadata": {},
   "outputs": [],
   "source": [
    "# Print decreasing triangle pattern\n",
    "def print_decreasing_triangle(rows):\n",
    "    \"\"\"Prints a decreasing triangle pattern of asterisks.\"\"\"\n",
    "    for i in range(rows, 0, -1):\n",
    "        print('* ' * i)  # Print i asterisks followed by a space\n",
    "\n",
    "# Set the number of rows\n",
    "rows = 5\n",
    "print_decreasing_triangle(rows)  # Call the function to print the pattern"
   ]
  },
  {
   "cell_type": "markdown",
   "id": "d6a508fd",
   "metadata": {},
   "source": [
    "# Decreasing Triangle Pattern\n",
    "\n",
    "## Overview\n",
    "\n",
    "This Python program prints a decreasing triangle pattern of asterisks (`*`). The user can specify the number of rows for the triangle.\n",
    "\n",
    "## Features\n",
    "\n",
    "- Prints a triangle pattern that decreases in size with each row.\n",
    "- The number of rows can be easily adjusted.\n",
    "\n",
    "## Example Output\n",
    "\n",
    "For an input of `5` rows, the output will be:\n",
    "\n",
    "## Usage\n",
    "\n",
    "1. Set the desired number of rows.\n",
    "2. Run the program to see the triangle pattern printed in the console."
   ]
  },
  {
   "cell_type": "markdown",
   "id": "f6af6689",
   "metadata": {},
   "source": [
    "## Exercise 4: Reverse a String"
   ]
  },
  {
   "cell_type": "code",
   "execution_count": 2,
   "id": "48a54c99",
   "metadata": {},
   "outputs": [
    {
     "name": "stdout",
     "output_type": "stream",
     "text": [
      "Reversed String: wodahs\n"
     ]
    }
   ],
   "source": [
    "def reverse_string():\n",
    "    \"\"\"Reverses the input string and prints the result.\"\"\"\n",
    "    text = input(\"Enter a string: \")  # Get user input\n",
    "    reversed_text = text[::-1]  # Reverse the string\n",
    "    print(\"Reversed String:\", reversed_text)  # Print the reversed string\n",
    "\n",
    "# Run the function\n",
    "if __name__ == \"__main__\":\n",
    "    reverse_string()  # Call the function to execute"
   ]
  },
  {
   "cell_type": "markdown",
   "id": "0d843d06",
   "metadata": {},
   "source": [
    "# String Reversal Program\n",
    "\n",
    "## Overview\n",
    "\n",
    "This Python program reverses a user-provided string and prints the reversed result.\n",
    "\n",
    "## Features\n",
    "\n",
    "- Prompts the user to enter a string.\n",
    "- Reverses the string using slicing.\n",
    "- Displays the reversed string.\n",
    "\n",
    "## Example Output\n",
    "\n",
    "For the input `Hello, World!`, the output will be:\n",
    "\n",
    "## Usage\n",
    "\n",
    "1. Run the program.\n",
    "2. Enter a string when prompted.\n",
    "3. The program will display the reversed string."
   ]
  },
  {
   "cell_type": "markdown",
   "id": "995ef1a5",
   "metadata": {},
   "source": [
    "## Exercise 5: Find Min & Max from an Iterable"
   ]
  },
  {
   "cell_type": "code",
   "execution_count": 3,
   "id": "4f26124a",
   "metadata": {},
   "outputs": [
    {
     "name": "stdout",
     "output_type": "stream",
     "text": [
      "Min value is: 1\n",
      "Max value is: 8\n"
     ]
    }
   ],
   "source": [
    "def min_max(iterable):\n",
    "    \"\"\"Return the minimum and maximum values from an iterable.\"\"\"\n",
    "    if not iterable:  # Check if the iterable is empty\n",
    "        return None, None  # Return None for both if empty\n",
    "    return min(iterable), max(iterable)  # Return min and max values\n",
    "\n",
    "def main():\n",
    "    \"\"\"Main function to demonstrate min_max usage.\"\"\"\n",
    "    numbers = [5, 8, 4, 1, 3]  # Example list of numbers\n",
    "    min_val, max_val = min_max(numbers)  # Get min and max values\n",
    "    print(\"Min value is:\", min_val)  # Print the minimum value\n",
    "    print(\"Max value is:\", max_val)  # Print the maximum value\n",
    "\n",
    "# Run the main function\n",
    "if __name__ == \"__main__\":\n",
    "    main()\n"
   ]
  },
  {
   "cell_type": "markdown",
   "id": "3765652e",
   "metadata": {},
   "source": [
    "# Min and Max Finder\n",
    "\n",
    "## Overview\n",
    "\n",
    "This Python program defines a function to find the minimum and maximum values in an iterable (like a list). It demonstrates the usage of this function with an example list of numbers.\n",
    "\n",
    "## Features\n",
    "\n",
    "- Accepts any iterable (e.g., list, tuple).\n",
    "- Returns the minimum and maximum values.\n",
    "- Handles empty iterables gracefully.\n",
    "\n",
    "## Example Output\n",
    "\n",
    "For the input list `[3, 7, 2, 9, 5]`, the output will be:\n",
    "\n",
    "## Usage\n",
    "\n",
    "1. Define a list or any iterable.\n",
    "2. Call the `min_max()` function with the iterable as an argument.\n",
    "3. The program will print the minimum and maximum values."
   ]
  },
  {
   "cell_type": "markdown",
   "id": "a0b4a70e",
   "metadata": {},
   "source": [
    "## Exercise 6: Guess the Number Game"
   ]
  },
  {
   "cell_type": "code",
   "execution_count": null,
   "id": "fcf2fdf4",
   "metadata": {},
   "outputs": [],
   "source": [
    "import random\n",
    "\n",
    "def guess_the_number():\n",
    "    \"\"\"Function to play the number guessing game.\"\"\"\n",
    "    secret_number = random.randint(1, 10)  # Randomly choose a number between 1 and 10\n",
    "    attempts = 0  # Initialize the number of attempts\n",
    "\n",
    "    while True:\n",
    "        try:\n",
    "            guess = int(input(\"Guess a number (1-10): \"))  # Get user input\n",
    "            attempts += 1  # Increment the attempt counter\n",
    "            \n",
    "            if guess > secret_number:\n",
    "                print(\"Too high! Try again.\")\n",
    "            elif guess < secret_number:\n",
    "                print(\"Too low! Try again.\")\n",
    "            else:\n",
    "                print(f\"Correct! You guessed the number in {attempts} attempts.\")\n",
    "                break  # Exit the loop if the guess is correct\n",
    "        except ValueError:\n",
    "            print(\"Please enter a valid integer.\")  # Handle invalid input\n",
    "\n",
    "# Run the game\n",
    "if __name__ == \"__main__\":\n",
    "    guess_the_number()"
   ]
  },
  {
   "cell_type": "markdown",
   "id": "c545f94e",
   "metadata": {},
   "source": [
    "# Number Guessing Game\n",
    "\n",
    "## Overview\n",
    "\n",
    "This Python program is a simple number guessing game where the player tries to guess a randomly chosen number between 1 and 10. The program provides feedback on whether the guess is too high, too low, or correct.\n",
    "\n",
    "## Features\n",
    "\n",
    "- Randomly selects a number between 1 and 10.\n",
    "- Prompts the user to guess the number.\n",
    "- Provides feedback on the guess (too high, too low, or correct).\n",
    "- Counts the number of attempts taken to guess correctly.\n",
    "- Handles invalid input gracefully.\n",
    "\n",
    "## Example Output\n",
    "\n",
    "## Usage\n",
    "\n",
    "1. Run the program.\n",
    "2. Enter a number between 1 and 10 when prompted.\n",
    "3. The program will inform you if your guess is too high, too low, or correct.\n",
    "4. Keep guessing until you find the correct number."
   ]
  },
  {
   "cell_type": "markdown",
   "id": "ba377327",
   "metadata": {},
   "source": [
    "## Exercise 7: Password Checker with Loop Control"
   ]
  },
  {
   "cell_type": "code",
   "execution_count": null,
   "id": "682061c7",
   "metadata": {},
   "outputs": [],
   "source": [
    "def password_checker():\n",
    "    \"\"\"Function to check the user's password.\"\"\"\n",
    "    correct_password = \"Python123\"  # Set the correct password\n",
    "\n",
    "    while True:\n",
    "        password = input(\"Enter password: \")  # Prompt user for password\n",
    "        if password == correct_password:\n",
    "            print(\"Access Granted!\")  # Grant access if password is correct\n",
    "            break  # Exit the loop\n",
    "        else:\n",
    "            print(\"Incorrect password. Try again.\")  # Prompt to try again\n",
    "\n",
    "# Run the password checker\n",
    "if __name__ == \"__main__\":\n",
    "    password_checker()\n"
   ]
  },
  {
   "cell_type": "markdown",
   "id": "eebf119e",
   "metadata": {},
   "source": [
    "# Password Checker\n",
    "\n",
    "## Overview\n",
    "\n",
    "This Python program prompts the user to enter a password and checks it against a predefined correct password. Access is granted if the user enters the correct password.\n",
    "\n",
    "## Features\n",
    "\n",
    "- Prompts the user to enter a password.\n",
    "- Checks the entered password against a predefined correct password.\n",
    "- Grants access if the password is correct.\n",
    "- Allows the user to retry if the password is incorrect.\n",
    "\n",
    "## Example Output\n",
    "\n",
    "## Usage\n",
    "\n",
    "1. Run the program.\n",
    "2. Enter the password when prompted.\n",
    "3. If the password is incorrect, you will be prompted to try again.\n",
    "4. Enter the correct password to gain access."
   ]
  },
  {
   "cell_type": "markdown",
   "id": "94d49b07",
   "metadata": {},
   "source": [
    "## Exercise 8: Mathematical Series Calculation"
   ]
  },
  {
   "cell_type": "code",
   "execution_count": null,
   "id": "b47ea8ee",
   "metadata": {},
   "outputs": [],
   "source": [
    "import math\n",
    "\n",
    "def calculate_series(x, N):\n",
    "    \"\"\"Calculate the series based on the given formula.\"\"\"\n",
    "    result = 0\n",
    "    for i in range(1, N + 1):\n",
    "        term = (x * (5 ** i) ** 2) / (i + math.factorial(i + 1))  # Calculate each term\n",
    "        result += term  # Add the term to the result\n",
    "    return result  # Return the final result\n",
    "\n",
    "def main():\n",
    "    \"\"\"Main function to get user input and compute the series.\"\"\"\n",
    "    try:\n",
    "        x = float(input(\"Enter value of x: \"))  # Get user input for x\n",
    "        N = int(input(\"Enter value of N: \"))  # Get user input for N\n",
    "        \n",
    "        # Compute and print the result\n",
    "        series_result = calculate_series(x, N)\n",
    "        print(\"Series result:\", series_result)\n",
    "    except ValueError:\n",
    "        print(\"Invalid input. Please enter numeric values.\")  # Handle invalid input\n",
    "\n",
    "# Run the main function\n",
    "if __name__ == \"__main__\":\n",
    "    main()\n"
   ]
  },
  {
   "cell_type": "markdown",
   "id": "f487127f",
   "metadata": {},
   "source": [
    "# Series Calculation Program\n",
    "\n",
    "## Overview\n",
    "\n",
    "This Python program calculates a mathematical series based on user-provided values for \\( x \\) and \\( N \\). The series is computed using a specific formula involving factorials.\n",
    "\n",
    "## Features\n",
    "\n",
    "- Prompts the user to enter a value for \\( x \\) and \\( N \\).\n",
    "- Computes the series using the formula:\n",
    "  \n",
    "  \\[\n",
    "  \\text{result} = \\sum_{i=1}^{N} \\frac{x \\cdot (5^i)^2}{i + (i+1)!}\n",
    "  \\]\n",
    "\n",
    "- Handles invalid input gracefully.\n",
    "\n",
    "## Example Output\n",
    "\n",
    "## Usage\n",
    "\n",
    "1. Run the program.\n",
    "2. Enter a numeric value for \\( x \\) when prompted.\n",
    "3. Enter a positive integer value for \\( N \\).\n",
    "4. The program will compute and display the result of the series."
   ]
  },
  {
   "cell_type": "markdown",
   "id": "000a37cc",
   "metadata": {},
   "source": [
    "## Exercise 9: Image Processing with NumPy"
   ]
  },
  {
   "cell_type": "code",
   "execution_count": null,
   "id": "b0b2c725",
   "metadata": {},
   "outputs": [],
   "source": [
    "import numpy as np\n",
    "import matplotlib.pyplot as plt\n",
    "from PIL import Image\n",
    "\n",
    "# Load an image\n",
    "image_path = \"your_image.jpg\"  # Replace with an actual image file\n",
    "image = Image.open(image_path)\n",
    "img_array = np.array(image)\n",
    "\n",
    "# Create mirrored images\n",
    "horizontal_flip = np.fliplr(img_array)\n",
    "vertical_flip = np.flipud(img_array)\n",
    "\n",
    "# Display images\n",
    "fig, ax = plt.subplots(1, 3, figsize=(12, 4))\n",
    "ax[0].imshow(img_array)\n",
    "ax[0].set_title(\"Original Image\")\n",
    "\n",
    "ax[1].imshow(horizontal_flip)\n",
    "ax[1].set_title(\"Horizontal Flip\")\n",
    "\n",
    "ax[2].imshow(vertical_flip)\n",
    "ax[2].set_title(\"Vertical Flip\")\n",
    "\n",
    "plt.show()\n"
   ]
  },
  {
   "cell_type": "markdown",
   "id": "f1b07f43",
   "metadata": {},
   "source": [
    "## Exercise 10: Temperature Data Analysis (NumPy)"
   ]
  },
  {
   "cell_type": "code",
   "execution_count": 5,
   "id": "23b04fd3",
   "metadata": {},
   "outputs": [
    {
     "name": "stdout",
     "output_type": "stream",
     "text": [
      "Min Temp: 18\n",
      "Max Temp: 30\n",
      "Average Temp: 23.133333333333333\n",
      "Temperatures in Fahrenheit: [71.6 75.2 66.2 69.8 73.4 77.  78.8 80.6 75.2 73.4 68.  71.6 69.8 66.2\n",
      " 64.4 71.6 73.4 75.2 78.8 82.4 86.  80.6 77.  78.8 75.2 71.6 69.8 68.\n",
      " 66.2 73.4]\n",
      "Days above 25°C: [26 27 26 28 30 27 26]\n",
      "Days below 20°C: 4\n",
      "Reshaped Temperature Data:\n",
      " [[22 24 19 21 23 25]\n",
      " [26 27 24 23 20 22]\n",
      " [21 19 18 22 23 24]\n",
      " [26 28 30 27 25 26]\n",
      " [24 22 21 20 19 23]]\n"
     ]
    }
   ],
   "source": [
    "import numpy as np\n",
    "\n",
    "# Temperature dataset\n",
    "temperatures = np.array([22, 24, 19, 21, 23, 25, 26, 27, 24, 23, 20, 22, 21, 19, 18, \n",
    "                         22, 23, 24, 26, 28, 30, 27, 25, 26, 24, 22, 21, 20, 19, 23])\n",
    "\n",
    "# Perform calculations\n",
    "min_temp = np.min(temperatures)\n",
    "max_temp = np.max(temperatures)\n",
    "avg_temp = np.mean(temperatures)\n",
    "\n",
    "# Convert Celsius to Fahrenheit\n",
    "fahrenheit = (temperatures * 9/5) + 32\n",
    "\n",
    "# Find days with temperature above 25°C\n",
    "above_25 = temperatures[temperatures > 25]\n",
    "\n",
    "# Count days below 20°C\n",
    "below_20_count = np.sum(temperatures < 20)\n",
    "\n",
    "# Reshape into 5x6 array\n",
    "reshaped_array = temperatures.reshape(5, 6)\n",
    "\n",
    "# Display results\n",
    "print(\"Min Temp:\", min_temp)\n",
    "print(\"Max Temp:\", max_temp)\n",
    "print(\"Average Temp:\", avg_temp)\n",
    "print(\"Temperatures in Fahrenheit:\", fahrenheit)\n",
    "print(\"Days above 25°C:\", above_25)\n",
    "print(\"Days below 20°C:\", below_20_count)\n",
    "print(\"Reshaped Temperature Data:\\n\", reshaped_array)  # Fixed print statement"
   ]
  },
  {
   "cell_type": "markdown",
   "id": "4c5f4714",
   "metadata": {},
   "source": [
    "# Temperature Analysis Program\n",
    "\n",
    "## Overview\n",
    "\n",
    "This Python program analyzes a dataset of temperatures in Celsius. It performs various calculations, including finding the minimum, maximum, and average temperatures, converting temperatures to Fahrenheit, and identifying specific temperature conditions.\n",
    "\n",
    "## Features\n",
    "\n",
    "- Calculates the minimum, maximum, and average temperatures.\n",
    "- Converts temperature values from Celsius to Fahrenheit.\n",
    "- Identifies days with temperatures above 25°C.\n",
    "- Counts the number of days with temperatures below 20°C.\n",
    "- Reshapes the temperature data into a 5x6 array for better visualization.\n",
    "\n",
    "## Example Output\n",
    "Min Temp: 18 Max Temp: 30 Average Temp: 22.0 Temperatures in Fahrenheit: [71.6 75.2 66.2 69.8 73.4 77.0 78.8 80.6 75.2 73.4 68.0 71.6 69.8 66.2 64.4 71.6 73.4 75.2 78.8 82.4 86.0 80.6 77.0 78.8 75.2 71.6 68.0 66.2 73.4] Days above 25°C: [26 27 28 30 27 26] Days below 20°C: 5 Reshaped Temperature Data: [[22 24 19 21 23 25] [26 27 24 23 20 22] [21 19 18 22 23 24] [26 28 30 27 25 26] [24 22 21 20 19 23]]\n",
    "\n",
    "\n",
    "## Usage\n",
    "\n",
    "1. Run the program.\n",
    "2. The program will automatically analyze the predefined temperature dataset.\n",
    "3. The results will be displayed, including minimum, maximum, and average temperatures, Fahrenheit conversions, and counts of specific temperature conditions."
   ]
  }
 ],
 "metadata": {
  "kernelspec": {
   "display_name": "Python 3",
   "language": "python",
   "name": "python3"
  },
  "language_info": {
   "codemirror_mode": {
    "name": "ipython",
    "version": 3
   },
   "file_extension": ".py",
   "mimetype": "text/x-python",
   "name": "python",
   "nbconvert_exporter": "python",
   "pygments_lexer": "ipython3",
   "version": "3.12.1"
  }
 },
 "nbformat": 4,
 "nbformat_minor": 5
}
