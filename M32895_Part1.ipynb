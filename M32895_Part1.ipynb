{
 "cells": [
  {
   "cell_type": "markdown",
   "id": "efe74ef6",
   "metadata": {},
   "source": [
    "# M32895 Big Data Applications - Portfolio Part I\n",
    "\n",
    "This notebook contains solutions for Part I of the assessment portfolio for the **Big Data Applications** unit.\n",
    "\n",
    "**Instructions:**  \n",
    "- Complete each exercise in the corresponding cell.  \n",
    "- Ensure that all code is well-commented and follows best practices.  \n",
    "- Submit this notebook via **Moodle** by **March 19, 12:00 PM**.  \n",
    "\n",
    "---\n"
   ]
  },
  {
   "cell_type": "markdown",
   "id": "517487d4",
   "metadata": {},
   "source": [
    "## Exercise 1: Prime Number Checker"
   ]
  },
  {
   "cell_type": "code",
   "execution_count": null,
   "id": "e8f4bee0",
   "metadata": {},
   "outputs": [],
   "source": [
    "# Function to check if a number is prime\n",
    "def is_prime(n):\n",
    "    if n < 2:\n",
    "        return False\n",
    "    for i in range(2, int(n ** 0.5) + 1):\n",
    "        if n % i == 0:\n",
    "            return False\n",
    "    return True\n",
    "\n",
    "# Ask user for input\n",
    "num = int(input(\"Enter a number: \"))\n",
    "\n",
    "# Print result\n",
    "if is_prime(num):\n",
    "    print(\"This is a prime number\")\n",
    "else:\n",
    "    print(\"This is not a prime number\")\n"
   ]
  },
  {
   "cell_type": "markdown",
   "id": "dd96bd90",
   "metadata": {},
   "source": [
    "## Exercise 2: Fibonacci Sequence Generator"
   ]
  },
  {
   "cell_type": "code",
   "execution_count": null,
   "id": "115b8b0b",
   "metadata": {},
   "outputs": [],
   "source": [
    "# Function to generate Fibonacci sequence\n",
    "def fibonacci(n):\n",
    "    fib = [0, 1]\n",
    "    for i in range(2, n):\n",
    "        fib.append(fib[-1] + fib[-2])\n",
    "    return fib[:n]\n",
    "\n",
    "# Ask user for input\n",
    "num_terms = int(input(\"Enter number of Fibonacci terms: \"))\n",
    "print(\"Fibonacci Sequence:\", fibonacci(num_terms))\n"
   ]
  },
  {
   "cell_type": "markdown",
   "id": "acc516be",
   "metadata": {},
   "source": [
    "## Exercise 3: Pattern Printing (Decreasing Triangle)"
   ]
  },
  {
   "cell_type": "code",
   "execution_count": null,
   "id": "2d0325bf",
   "metadata": {},
   "outputs": [],
   "source": [
    "# Print decreasing triangle pattern\n",
    "rows = 5\n",
    "for i in range(rows, 0, -1):\n",
    "    print('* ' * i)\n"
   ]
  },
  {
   "cell_type": "markdown",
   "id": "f6af6689",
   "metadata": {},
   "source": [
    "## Exercise 4: Reverse a String"
   ]
  },
  {
   "cell_type": "code",
   "execution_count": null,
   "id": "48a54c99",
   "metadata": {},
   "outputs": [],
   "source": [
    "# Function to reverse a string\n",
    "def reverse_string():\n",
    "    text = input(\"Enter a string: \")\n",
    "    print(\"Reversed String:\", text[::-1])\n",
    "\n",
    "# Run the function\n",
    "reverse_string()\n"
   ]
  },
  {
   "cell_type": "markdown",
   "id": "995ef1a5",
   "metadata": {},
   "source": [
    "## Exercise 5: Find Min & Max from an Iterable"
   ]
  },
  {
   "cell_type": "code",
   "execution_count": null,
   "id": "4f26124a",
   "metadata": {},
   "outputs": [],
   "source": [
    "# Function to find min and max in an iterable\n",
    "def min_max(iterable):\n",
    "    return min(iterable), max(iterable)\n",
    "\n",
    "# Example usage\n",
    "numbers = [3, 7, 2, 9, 5]\n",
    "min_val, max_val = min_max(numbers)\n",
    "print(\"Min value is:\", min_val)\n",
    "print(\"Max value is:\", max_val)\n"
   ]
  },
  {
   "cell_type": "markdown",
   "id": "a0b4a70e",
   "metadata": {},
   "source": [
    "## Exercise 6: Guess the Number Game"
   ]
  },
  {
   "cell_type": "code",
   "execution_count": null,
   "id": "fcf2fdf4",
   "metadata": {},
   "outputs": [],
   "source": [
    "import random\n",
    "\n",
    "# Randomly choose a number between 1 and 10\n",
    "secret_number = random.randint(1, 10)\n",
    "\n",
    "while True:\n",
    "    guess = int(input(\"Guess a number (1-10): \"))\n",
    "    \n",
    "    if guess > secret_number:\n",
    "        print(\"Too high! Try again.\")\n",
    "    elif guess < secret_number:\n",
    "        print(\"Too low! Try again.\")\n",
    "    else:\n",
    "        print(\"Correct! You guessed the number.\")\n",
    "        break\n"
   ]
  },
  {
   "cell_type": "markdown",
   "id": "ba377327",
   "metadata": {},
   "source": [
    "## Exercise 7: Password Checker with Loop Control"
   ]
  },
  {
   "cell_type": "code",
   "execution_count": null,
   "id": "682061c7",
   "metadata": {},
   "outputs": [],
   "source": [
    "# Password checker loop\n",
    "correct_password = \"Python123\"\n",
    "\n",
    "while True:\n",
    "    password = input(\"Enter password: \")\n",
    "    if password == correct_password:\n",
    "        print(\"Access Granted!\")\n",
    "        break\n",
    "    else:\n",
    "        print(\"Incorrect password. Try again.\")\n"
   ]
  },
  {
   "cell_type": "markdown",
   "id": "94d49b07",
   "metadata": {},
   "source": [
    "## Exercise 8: Mathematical Series Calculation"
   ]
  },
  {
   "cell_type": "code",
   "execution_count": null,
   "id": "b47ea8ee",
   "metadata": {},
   "outputs": [],
   "source": [
    "import math\n",
    "\n",
    "# Function to calculate series\n",
    "def calculate_series(x, N):\n",
    "    result = 0\n",
    "    for i in range(1, N + 1):\n",
    "        result += (x * (5 ** i) ** 2) / (i + math.factorial(i + 1))\n",
    "    return result\n",
    "\n",
    "# User input\n",
    "x = float(input(\"Enter value of x: \"))\n",
    "N = int(input(\"Enter value of N: \"))\n",
    "\n",
    "# Compute and print result\n",
    "print(\"Series result:\", calculate_series(x, N))\n"
   ]
  },
  {
   "cell_type": "markdown",
   "id": "000a37cc",
   "metadata": {},
   "source": [
    "## Exercise 9: Image Processing with NumPy"
   ]
  },
  {
   "cell_type": "code",
   "execution_count": null,
   "id": "b0b2c725",
   "metadata": {},
   "outputs": [],
   "source": [
    "import numpy as np\n",
    "import matplotlib.pyplot as plt\n",
    "from PIL import Image\n",
    "\n",
    "# Load an image\n",
    "image_path = \"your_image.jpg\"  # Replace with an actual image file\n",
    "image = Image.open(image_path)\n",
    "img_array = np.array(image)\n",
    "\n",
    "# Create mirrored images\n",
    "horizontal_flip = np.fliplr(img_array)\n",
    "vertical_flip = np.flipud(img_array)\n",
    "\n",
    "# Display images\n",
    "fig, ax = plt.subplots(1, 3, figsize=(12, 4))\n",
    "ax[0].imshow(img_array)\n",
    "ax[0].set_title(\"Original Image\")\n",
    "\n",
    "ax[1].imshow(horizontal_flip)\n",
    "ax[1].set_title(\"Horizontal Flip\")\n",
    "\n",
    "ax[2].imshow(vertical_flip)\n",
    "ax[2].set_title(\"Vertical Flip\")\n",
    "\n",
    "plt.show()\n"
   ]
  },
  {
   "cell_type": "markdown",
   "id": "f1b07f43",
   "metadata": {},
   "source": [
    "## Exercise 10: Temperature Data Analysis (NumPy)"
   ]
  },
  {
   "cell_type": "code",
   "execution_count": null,
   "id": "23b04fd3",
   "metadata": {},
   "outputs": [],
   "source": [
    "import numpy as np\n",
    "\n",
    "# Temperature dataset\n",
    "temperatures = np.array([22, 24, 19, 21, 23, 25, 26, 27, 24, 23, 20, 22, 21, 19, 18, \n",
    "                         22, 23, 24, 26, 28, 30, 27, 25, 26, 24, 22, 21, 20, 19, 23])\n",
    "\n",
    "# Perform calculations\n",
    "min_temp = np.min(temperatures)\n",
    "max_temp = np.max(temperatures)\n",
    "avg_temp = np.mean(temperatures)\n",
    "\n",
    "# Convert Celsius to Fahrenheit\n",
    "fahrenheit = (temperatures * 9/5) + 32\n",
    "\n",
    "# Find days with temperature above 25°C\n",
    "above_25 = temperatures[temperatures > 25]\n",
    "\n",
    "# Count days below 20°C\n",
    "below_20_count = np.sum(temperatures < 20)\n",
    "\n",
    "# Reshape into 5x6 array\n",
    "reshaped_array = temperatures.reshape(5, 6)\n",
    "\n",
    "# Display results\n",
    "print(\"Min Temp:\", min_temp)\n",
    "print(\"Max Temp:\", max_temp)\n",
    "print(\"Average Temp:\", avg_temp)\n",
    "print(\"Temperatures in Fahrenheit:\", fahrenheit)\n",
    "print(\"Days above 25°C:\", above_25)\n",
    "print(\"Days below 20°C:\", below_20_count)\n",
    "print(\"Reshaped Temperature Data:\n",
    "\", reshaped_array)\n"
   ]
  }
 ],
 "metadata": {
  "kernelspec": {
   "display_name": "Python 3",
   "language": "python",
   "name": "python3"
  },
  "language_info": {
   "name": "python",
   "version": "3.10.12"
  }
 },
 "nbformat": 4,
 "nbformat_minor": 5
}
